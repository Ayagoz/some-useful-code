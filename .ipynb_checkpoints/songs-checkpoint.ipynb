{
 "cells": [
  {
   "cell_type": "code",
   "execution_count": 1,
   "metadata": {
    "collapsed": true
   },
   "outputs": [],
   "source": [
    "import urllib.request as url"
   ]
  },
  {
   "cell_type": "code",
   "execution_count": 2,
   "metadata": {
    "collapsed": true
   },
   "outputs": [],
   "source": [
    "import requests\n",
    "import os"
   ]
  },
  {
   "cell_type": "code",
   "execution_count": 3,
   "metadata": {
    "collapsed": true
   },
   "outputs": [],
   "source": [
    "song_mp3 = requests.get('https://cs1-50v4.vkuseraudio.net/p5/754cc96268e34d.mp3?extra=WofRdaeUGwz9opiZ2wL9bO3rHImlwYbIvNUU20Iu4diyd1iwxqfMyN4kFrFAiIkLesvudQyxjcsMLvatXT5sUEtrIHkZRVwSjtSvnA4KFRq_eK5uZL918CNX90zJ1VQLpe-2-MsOtgE') \n",
    "with open(os.path.join('/home/ayagoz/', 'song'+'.mp3'), 'wb') as f:    \n",
    "    f.write(song_mp3.content)"
   ]
  },
  {
   "cell_type": "code",
   "execution_count": null,
   "metadata": {
    "collapsed": true
   },
   "outputs": [],
   "source": []
  },
  {
   "cell_type": "code",
   "execution_count": null,
   "metadata": {
    "collapsed": true
   },
   "outputs": [],
   "source": []
  }
 ],
 "metadata": {
  "kernelspec": {
   "display_name": "Python 3",
   "language": "python",
   "name": "python3"
  },
  "language_info": {
   "codemirror_mode": {
    "name": "ipython",
    "version": 3
   },
   "file_extension": ".py",
   "mimetype": "text/x-python",
   "name": "python",
   "nbconvert_exporter": "python",
   "pygments_lexer": "ipython3",
   "version": "3.6.3"
  }
 },
 "nbformat": 4,
 "nbformat_minor": 2
}
