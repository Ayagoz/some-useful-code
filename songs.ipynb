{
 "cells": [
  {
   "cell_type": "code",
   "execution_count": 1,
   "metadata": {},
   "outputs": [],
   "source": [
    "import urllib.request as url"
   ]
  },
  {
   "cell_type": "code",
   "execution_count": 5,
   "metadata": {},
   "outputs": [],
   "source": [
    "import requests\n",
    "import os"
   ]
  },
  {
   "cell_type": "code",
   "execution_count": 8,
   "metadata": {},
   "outputs": [],
   "source": [
    "song_mp3 = requests.get('https://psv4.userapi.com/c5486/u7115007/audios/99bb7824efbc.mp3?extra=DZp2XNkGWJ8w6NMcHiC__WSi1uIOhwlxqtalUabVslNsyWBAY8VWyKfzBxemY-s4bkMbWzOBTzfnRJNVIE-a3OTJlkVBU8PuQZMT1myw5pY52d-NjIu-wbrevRhUnCIwBz_b-IzzeiAeMyI') \n",
    "with open(os.path.join('/home/ayagoz/', 'song'+'.mp3'), 'wb') as f:    \n",
    "    f.write(song_mp3.content)"
   ]
  },
  {
   "cell_type": "code",
   "execution_count": null,
   "metadata": {
    "collapsed": true
   },
   "outputs": [],
   "source": []
  },
  {
   "cell_type": "code",
   "execution_count": null,
   "metadata": {
    "collapsed": true
   },
   "outputs": [],
   "source": []
  }
 ],
 "metadata": {
  "kernelspec": {
   "display_name": "Python 3",
   "language": "python",
   "name": "python3"
  },
  "language_info": {
   "codemirror_mode": {
    "name": "ipython",
    "version": 3
   },
   "file_extension": ".py",
   "mimetype": "text/x-python",
   "name": "python",
   "nbconvert_exporter": "python",
   "pygments_lexer": "ipython3",
   "version": "3.6.1"
  }
 },
 "nbformat": 4,
 "nbformat_minor": 2
}
