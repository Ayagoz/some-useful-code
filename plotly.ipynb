{
 "cells": [
  {
   "cell_type": "code",
   "execution_count": 40,
   "metadata": {
    "collapsed": true
   },
   "outputs": [],
   "source": [
    "import igraph as ig\n",
    "import matplotlib.pyplot as plt\n",
    "import numpy as np\n",
    "import pandas as pd\n",
    "import os\n",
    "from scipy.sparse import csr_matrix\n",
    "from convert import convert\n",
    "import seaborn as sns\n",
    "\n",
    "import plotly.plotly as py\n",
    "\n",
    "py.sign_in('ayagoz', '2rcpqwmjz4')\n",
    "%matplotlib inline"
   ]
  },
  {
   "cell_type": "code",
   "execution_count": 41,
   "metadata": {
    "collapsed": false
   },
   "outputs": [
    {
     "data": {
      "text/plain": [
       "(807, 5)"
      ]
     },
     "execution_count": 41,
     "metadata": {},
     "output_type": "execute_result"
    }
   ],
   "source": [
    "# 003_S_2374_1 - subject_id_file,\n",
    "# 003_S_2374 - subject_id, 1 - scan_id\n",
    "\n",
    "path = 'connectomics/ADNI/ADNI/Data/matrices/'\n",
    "matrices = []\n",
    "all_matrices = pd.DataFrame(columns = ['subject_id_file','subject_id','scan_id', 'matrix', 'target'])\n",
    "\n",
    "# importing data\n",
    "for foldername in sorted(os.listdir(path)):\n",
    "    for filename in sorted(os.listdir(path+foldername)):\n",
    "        if 'NORM' not in filename:\n",
    "            mat = np.genfromtxt(path+foldername+'/'+filename)\n",
    "            subject_id_file = foldername\n",
    "            subject_id = foldername[:-2]\n",
    "            scan_id = foldername[-1:]\n",
    "            \n",
    "            mat = np.delete(mat, [3,38], 1)\n",
    "            mat = np.delete(mat, [3,38], 0)\n",
    "            np.fill_diagonal(mat,0)         \n",
    "            subject_data = convert(mat, mode = 'mat2vec')\n",
    "            single_subject = pd.DataFrame(data = [[subject_id_file, subject_id, scan_id, subject_data, np.nan]],\n",
    "                                          columns = ['subject_id_file','subject_id','scan_id', 'matrix', 'target'])\n",
    "            all_matrices = all_matrices.append(single_subject)\n",
    "            \n",
    "all_matrices.index = all_matrices.subject_id_file\n",
    "subject_data = pd.read_csv('connectomics/ADNI/ADNI/Data/ADNI_subject_list.csv')\n",
    "subject_id_names = np.array(all_matrices['subject_id_file'])\n",
    "\n",
    "#importing target variables\n",
    "for name in subject_id_names:\n",
    "    smth = subject_data.loc[subject_data['Subject ID'] == name[:-2]]['DX Group'].dropna()\n",
    "    un_smth = np.unique(smth)\n",
    "    try:\n",
    "        val = un_smth[0].replace(' ', '')\n",
    "        all_matrices.set_value(name, 'target', val)\n",
    "    except:\n",
    "        pass\n",
    "    \n",
    "#drop objects without any target\n",
    "all_matrices.dropna(inplace = True)\n",
    "data = all_matrices.copy()\n",
    "data.shape"
   ]
  },
  {
   "cell_type": "code",
   "execution_count": 43,
   "metadata": {
    "collapsed": false
   },
   "outputs": [
    {
     "data": {
      "text/plain": [
       "((802, 3),\n",
       " ['003_S_4644_1',\n",
       "  '007_S_2106_1',\n",
       "  '127_S_4992_1',\n",
       "  '127_S_5056_1',\n",
       "  '127_S_5058_1'])"
      ]
     },
     "execution_count": 43,
     "metadata": {},
     "output_type": "execute_result"
    }
   ],
   "source": [
    "#003_S_0908_1_connect_dil_centerOfGravities\n",
    "aid = data['subject_id_file'].tolist()\n",
    "flag = 1\n",
    "no_centers = []\n",
    "path = 'connectomics/ADNI/ADNI/adni2_centers/'\n",
    "centers = pd.DataFrame(columns = ['subject_id', 'scan_id','coordinate'])\n",
    "for idx in aid:\n",
    "    vec = pd.read_csv(path+'/'+idx+'_connect_dil_centerOfGravities.txt')\n",
    "    vec.drop(vec.index[[3,38]], inplace = True)\n",
    "    vec.__delitem__('Unnamed: 7')\n",
    "    vec.__delitem__('region')\n",
    "    vec.__delitem__('voxel_cordX')\n",
    "    vec.__delitem__('voxel_cordY')\n",
    "    vec.__delitem__('voxel_cordZ')\n",
    "    mat = vec.as_matrix()\n",
    "    if (mat.all() == 0):\n",
    "        flag = 0\n",
    "        no_centers +=[idx]\n",
    "    #filename = filename[:12]\n",
    "    subject_id = idx[:-2]\n",
    "    scan_id = idx[-1:]\n",
    "    single_subject = pd.DataFrame(data = [[subject_id, scan_id, mat]], \n",
    "                                  columns = ['subject_id', 'scan_id','coordinate'])\n",
    "    if (flag != 0 ):\n",
    "        centers = centers.append(single_subject)\n",
    "    flag = 1\n",
    "centers.index = centers.subject_id\n",
    "centers.shape , no_centers"
   ]
  },
  {
   "cell_type": "code",
   "execution_count": 44,
   "metadata": {
    "collapsed": true
   },
   "outputs": [],
   "source": [
    "for idx in no_centers:\n",
    "    data = data[data.subject_id_file != idx]\n",
    "ucenters = centers[centers.scan_id == '1']\n",
    "udata = data[data.scan_id == '1']"
   ]
  },
  {
   "cell_type": "code",
   "execution_count": 45,
   "metadata": {
    "collapsed": false
   },
   "outputs": [
    {
     "data": {
      "text/plain": [
       "(numpy.ndarray, (235,), '003_S_4839')"
      ]
     },
     "execution_count": 45,
     "metadata": {},
     "output_type": "execute_result"
    }
   ],
   "source": [
    "all_nodes = np.array(ucenters['coordinate'])\n",
    "\n",
    "type(all_nodes), all_nodes.shape, ucenters['subject_id'][13]"
   ]
  },
  {
   "cell_type": "code",
   "execution_count": 46,
   "metadata": {
    "collapsed": false
   },
   "outputs": [
    {
     "data": {
      "text/plain": [
       "((3, 68), numpy.ndarray)"
      ]
     },
     "execution_count": 46,
     "metadata": {},
     "output_type": "execute_result"
    }
   ],
   "source": [
    "coord = np.array(all_nodes.sum()/235).T\n",
    "coord.shape, type(coord)"
   ]
  },
  {
   "cell_type": "code",
   "execution_count": 50,
   "metadata": {
    "collapsed": false
   },
   "outputs": [],
   "source": [
    "m = convert(udata['matrix'][0])"
   ]
  },
  {
   "cell_type": "code",
   "execution_count": 51,
   "metadata": {
    "collapsed": false
   },
   "outputs": [
    {
     "data": {
      "text/plain": [
       "<matplotlib.image.AxesImage at 0x7ff6a1913978>"
      ]
     },
     "execution_count": 51,
     "metadata": {},
     "output_type": "execute_result"
    },
    {
     "data": {
      "image/png": "[encoded data removed]",
      "text/plain": [
       "<matplotlib.figure.Figure at 0x7ff6a29f7e48>"
      ]
     },
     "metadata": {},
     "output_type": "display_data"
    }
   ],
   "source": [
    "plt.imshow(m)"
   ]
  },
  {
   "cell_type": "code",
   "execution_count": 75,
   "metadata": {
    "collapsed": false
   },
   "outputs": [],
   "source": [
    "G = ig.Graph()\n",
    "G = G.Adjacency(np.where(m>0,1,0).tolist())"
   ]
  },
  {
   "cell_type": "code",
   "execution_count": 77,
   "metadata": {
    "collapsed": true
   },
   "outputs": [],
   "source": [
    "label = (np.zeros(34)).tolist() + (np.ones(34)).tolist()"
   ]
  },
  {
   "cell_type": "code",
   "execution_count": 78,
   "metadata": {
    "collapsed": false
   },
   "outputs": [
    {
     "name": "stdout",
     "output_type": "stream",
     "text": [
      "<Layout with 68 vertices and 3 dimensions>\n"
     ]
    }
   ],
   "source": [
    "from plotly.graph_objs import *\n",
    "layt=G.layout('kk', dim=3)\n",
    "print(layt)\n",
    "\n",
    "Xn=coord[0].tolist() # x-coordinates of nodes\n",
    "Yn=coord[1].tolist() # y-coordinates\n",
    "Zn=coord[2].tolist() # z-coordinates\n",
    "Xe=[]\n",
    "Ye=[]\n",
    "Ze=[]\n",
    "\n",
    "for node in G.get_edgelist():\n",
    "    Xe+=[Xn[node[0]-1],Xn[node[1]-1], None]# x-coordinates of edge ends\n",
    "    Ye+=[Yn[node[0]-1],Yn[node[1]-1], None]\n",
    "    Ze+=[Zn[node[0]-1],Zn[node[1]-1], None]\n"
   ]
  },
  {
   "cell_type": "code",
   "execution_count": 79,
   "metadata": {
    "collapsed": true
   },
   "outputs": [],
   "source": [
    "trace1=Scatter3d(x=Xe,\n",
    "               y=Ye,\n",
    "               z=Ze,\n",
    "               mode='lines',\n",
    "               line=Line(color='rgb(125,125,125)', width=.5),\n",
    "               hoverinfo='none'\n",
    "               )\n",
    "trace2=Scatter3d(x=Xn,\n",
    "               y=Yn,\n",
    "               z=Zn,\n",
    "               mode='markers',\n",
    "               marker=Marker(symbol='dot',\n",
    "                             size=6,\n",
    "                             color = label,\n",
    "                             colorscale='Viridis',\n",
    "                             line=Line(color='rgb(50,50,50)', width=0.5)\n",
    "                             ),\n",
    "               hoverinfo = 'none'\n",
    "               )"
   ]
  },
  {
   "cell_type": "code",
   "execution_count": 80,
   "metadata": {
    "collapsed": true
   },
   "outputs": [],
   "source": [
    "axis=dict(showbackground=False,\n",
    "          showline=False,\n",
    "          zeroline=False,\n",
    "          showgrid=False,\n",
    "          showticklabels=False,\n",
    "          title=''\n",
    "          )"
   ]
  },
  {
   "cell_type": "code",
   "execution_count": 81,
   "metadata": {
    "collapsed": true
   },
   "outputs": [],
   "source": [
    "layout = Layout(\n",
    "         title=\"Visualization\",\n",
    "         width=1000,\n",
    "         height=1000,\n",
    "         showlegend=False,\n",
    "         scene=Scene(\n",
    "         xaxis=XAxis(axis),\n",
    "         yaxis=YAxis(axis),\n",
    "         zaxis=ZAxis(axis),\n",
    "        ),\n",
    "     margin=Margin(\n",
    "        t=100\n",
    "    ),\n",
    "    hovermode='closest',\n",
    "    annotations=Annotations([\n",
    "           Annotation(\n",
    "           showarrow=False,\n",
    "            text=\"\",\n",
    "            xref='paper',\n",
    "            yref='paper',\n",
    "            x=0,\n",
    "            y=0.1,\n",
    "            xanchor='left',\n",
    "            yanchor='bottom',\n",
    "            font=Font(\n",
    "            size=14\n",
    "            )\n",
    "            )\n",
    "        ])  )"
   ]
  },
  {
   "cell_type": "code",
   "execution_count": 82,
   "metadata": {
    "collapsed": false
   },
   "outputs": [
    {
     "name": "stdout",
     "output_type": "stream",
     "text": [
      "High five! You successfuly sent some data to your account on plotly. View your plot in your browser at https://plot.ly/~ayagoz/0 or inside your plot.ly account where it is named 'Connectome'\n"
     ]
    },
    {
     "data": {
      "text/html": [
       "<iframe id=\"igraph\" scrolling=\"no\" style=\"border:none;\" seamless=\"seamless\" src=\"https://plot.ly/~ayagoz/0.embed\" height=\"1000px\" width=\"1000px\"></iframe>"
      ],
      "text/plain": [
       "<plotly.tools.PlotlyDisplay object>"
      ]
     },
     "execution_count": 82,
     "metadata": {},
     "output_type": "execute_result"
    }
   ],
   "source": [
    "data=Data([trace1, trace2])\n",
    "fig=Figure(data=data, layout = layout)\n",
    "\n",
    "py.iplot(fig, filename='Connectome')"
   ]
  }
 ],
 "metadata": {
  "kernelspec": {
   "display_name": "Python [conda root]",
   "language": "python",
   "name": "conda-root-py"
  },
  "language_info": {
   "codemirror_mode": {
    "name": "ipython",
    "version": 3
   },
   "file_extension": ".py",
   "mimetype": "text/x-python",
   "name": "python",
   "nbconvert_exporter": "python",
   "pygments_lexer": "ipython3",
   "version": "3.5.2"
  }
 },
 "nbformat": 4,
 "nbformat_minor": 1
}
